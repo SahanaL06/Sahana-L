{
 "cells": [
  {
   "cell_type": "code",
   "execution_count": 1,
   "metadata": {},
   "outputs": [
    {
     "name": "stdout",
     "output_type": "stream",
     "text": [
      "Accuracy: 0.7307692307692307\n",
      "Prediction: mountains\n"
     ]
    },
    {
     "data": {
      "image/png": "[encoded data removed]",
      "text/plain": [
       "<Figure size 432x288 with 1 Axes>"
      ]
     },
     "metadata": {
      "needs_background": "light"
     },
     "output_type": "display_data"
    }
   ],
   "source": [
    "import os\n",
    "import numpy as np\n",
    "import cv2\n",
    "import matplotlib.pyplot as plt\n",
    "import pickle\n",
    "import random\n",
    "from sklearn.model_selection import train_test_split\n",
    "from sklearn.svm import SVC\n",
    "#dir='C:\\\\Users\\\\Sahana\\\\sahanal\\\\IMAGES'\n",
    "#categories=['mountains','waterfalls']\n",
    "\n",
    "#data=[]\n",
    "\n",
    "\n",
    "#for category in categories:\n",
    "  #  path=os.path.join(dir,category)\n",
    "    #label=categories.index(category)\n",
    "    \n",
    "    #for img in os.listdir(path):\n",
    "      #  imgpath=os.path.join(path,img)\n",
    "      #  nat_img=cv2.imread(imgpath,0)\n",
    "       # try:\n",
    "           # nat_img=cv2.resize(nat_img,(50,50))\n",
    "            #image=np.array(nat_img).flatten()\n",
    "\n",
    "           # data.append([image,label])\n",
    "        #except Exception as e:\n",
    "          #  pass\n",
    "\n",
    "#pick_in=open('data1.pickle','wb')\n",
    "#pickle.dump(data,pick_in)\n",
    "#pick_in.close()\n",
    "\n",
    "\n",
    "pick_in=open('data1.pickle','rb')\n",
    "data=pickle.load(pick_in)\n",
    "pick_in.close()\n",
    "\n",
    "random.shuffle(data)\n",
    "features=[]\n",
    "labels=[]\n",
    "\n",
    "for feature,label in data:\n",
    "    features.append(feature)\n",
    "    labels.append(label)\n",
    "    \n",
    "xtrain,xtest,ytrain,ytest=train_test_split(features,labels,test_size=0.25)\n",
    "\n",
    "model=SVC(C=1,kernel='poly',gamma='auto')\n",
    "model.fit(xtrain,ytrain)\n",
    "\n",
    "prediction=model.predict(xtest)\n",
    "accuracy=model.score(xtest,ytest)\n",
    "categories=['mountains','waterfalls']\n",
    "\n",
    "print('Accuracy:',accuracy)\n",
    "print('Prediction:',categories[prediction[0]])\n",
    "\n",
    "mynat=xtest[0].reshape(50,50)\n",
    "plt.imshow(mynat,cmap='gray')\n",
    "plt.show()\n"
   ]
  },
  {
   "cell_type": "code",
   "execution_count": null,
   "metadata": {},
   "outputs": [],
   "source": []
  },
  {
   "cell_type": "code",
   "execution_count": null,
   "metadata": {},
   "outputs": [],
   "source": []
  }
 ],
 "metadata": {
  "kernelspec": {
   "display_name": "Python 3",
   "language": "python",
   "name": "python3"
  },
  "language_info": {
   "codemirror_mode": {
    "name": "ipython",
    "version": 3
   },
   "file_extension": ".py",
   "mimetype": "text/x-python",
   "name": "python",
   "nbconvert_exporter": "python",
   "pygments_lexer": "ipython3",
   "version": "3.8.3"
  }
 },
 "nbformat": 4,
 "nbformat_minor": 4
}
